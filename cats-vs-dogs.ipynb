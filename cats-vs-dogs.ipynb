{
  "nbformat": 4,
  "nbformat_minor": 0,
  "metadata": {
    "environment": {
      "name": "tf2-gpu.2-1.m47",
      "type": "gcloud",
      "uri": "gcr.io/deeplearning-platform-release/tf2-gpu.2-1:m47"
    },
    "kernelspec": {
      "display_name": "Python 3",
      "language": "python",
      "name": "python3"
    },
    "language_info": {
      "codemirror_mode": {
        "name": "ipython",
        "version": 3
      },
      "file_extension": ".py",
      "mimetype": "text/x-python",
      "name": "python",
      "nbconvert_exporter": "python",
      "pygments_lexer": "ipython3",
      "version": "3.7.6"
    },
    "colab": {
      "name": "cats-vs-dogs.ipynb",
      "provenance": []
    },
    "accelerator": "GPU"
  },
  "cells": [
    {
      "cell_type": "markdown",
      "metadata": {
        "id": "2gr-7cp1-evS"
      },
      "source": [
        "# Get started with Computer Vision and TF"
      ]
    },
    {
      "cell_type": "markdown",
      "metadata": {
        "id": "kY-EkGRF-evW"
      },
      "source": [
        "<table class=\"tfo-notebook-buttons\" align=\"left\">\n",
        "  <td>\n",
        "    <a target=\"_blank\" href=\"https://colab.research.google.com/github/Rishit-dagli/Design-and-Code-2020/blob/master/cats-vs-dogs.ipynb\"><img src=\"https://www.tensorflow.org/images/colab_logo_32px.png\" />Run in Google Colab</a>\n",
        "  </td>\n",
        "  <td>\n",
        "    <a target=\"_blank\" href=\"https://github.com/Rishit-dagli/Design-and-Code-2020/blob/master/cats-vs-dogs.ipynb\"><img src=\"https://www.tensorflow.org/images/GitHub-Mark-32px.png\" />View source on GitHub</a>\n",
        "  </td>\n",
        "  <td>\n",
        "    <a href=\"https://github.com/Rishit-dagli/Design-and-Code-2020/blob/master/cats-vs-dogs.ipynb\"><img src=\"https://www.tensorflow.org/images/download_logo_32px.png\" />Download notebook</a>\n",
        "  </td>\n",
        "</table>"
      ]
    },
    {
      "cell_type": "markdown",
      "metadata": {
        "id": "IbdMxaEL-evX"
      },
      "source": [
        "In this notebook you will create your first Computer Vision based Deep Learning model to classify between cats and dogs with TensorFlow. We will use the [dogs-vs-cats dataset](https://www.kaggle.com/c/dogs-vs-cats/data) which is open-sourced. We will create a simple 2 class binary CNN to do so. You wil see all the aspects of training such a model, data preprocressing, the actual model, reducing overfitting and finally making inferences.\n",
        "\n",
        "This guide uses [tf.keras](https://github.com/tensorflow/docs/blob/master/site/en/r1/guide/keras.ipynb), a high-level API to build and train models in TensorFlow.\n",
        "\n",
        "> Note: I have marked section with `Only in Colab` and `Only in Local` to make this notebook useable by all\n",
        "\n",
        "|Cats|Dogs|\n",
        "|----|----|\n",
        "|![](http://storage.rishit.tech/storage/Design-And-Code-2020/sample-cats.png)|![](http://storage.rishit.tech/storage/Design-And-Code-2020/sample-dogs.png)|"
      ]
    },
    {
      "cell_type": "markdown",
      "metadata": {
        "id": "8PCN6HlT-evX"
      },
      "source": [
        "## Setup"
      ]
    },
    {
      "cell_type": "markdown",
      "metadata": {
        "id": "FUy1hV86-evY"
      },
      "source": [
        "### Download data (Only in Colab)"
      ]
    },
    {
      "cell_type": "code",
      "metadata": {
        "id": "cC1_s1Kk-evY"
      },
      "source": [
        "!wget --no-check-certificate \\\n",
        "    https://storage.googleapis.com/mledu-datasets/cats_and_dogs_filtered.zip \\\n",
        "    -O /cats_and_dogs_filtered.zip"
      ],
      "execution_count": null,
      "outputs": []
    },
    {
      "cell_type": "markdown",
      "metadata": {
        "id": "ogACJVTD-evY"
      },
      "source": [
        "### Imports"
      ]
    },
    {
      "cell_type": "code",
      "metadata": {
        "id": "3rtZin6v-evY"
      },
      "source": [
        "import os\n",
        "import numpy as np\n",
        "import zipfile\n",
        "import tensorflow as tf\n",
        "from tensorflow.keras.optimizers import RMSprop\n",
        "from tensorflow.keras.preprocessing.image import ImageDataGenerator\n",
        "import matplotlib.pyplot as plt\n",
        "from tensorflow.keras.preprocessing import image\n",
        "\n",
        "IMG_HEIGHT = IMG_WIDTH = 150"
      ],
      "execution_count": null,
      "outputs": []
    },
    {
      "cell_type": "markdown",
      "metadata": {
        "id": "I6OIEyw9-evZ"
      },
      "source": [
        "## Unzip files"
      ]
    },
    {
      "cell_type": "code",
      "metadata": {
        "id": "SA5x_guu-evZ"
      },
      "source": [
        "local_zip = '/cats_and_dogs_filtered.zip'\n",
        "zip_ref = zipfile.ZipFile(local_zip, 'r')\n",
        "zip_ref.extractall('/')\n",
        "zip_ref.close()"
      ],
      "execution_count": null,
      "outputs": []
    },
    {
      "cell_type": "markdown",
      "metadata": {
        "id": "4A3DcBmO-evZ"
      },
      "source": [
        "## Specifying directories\n",
        "\n",
        "We will now specify our training and testing directories so things become easier for us at later stages."
      ]
    },
    {
      "cell_type": "code",
      "metadata": {
        "id": "YMsVHgV_-evZ"
      },
      "source": [
        "base_dir = '/cats_and_dogs_filtered'\n",
        "train_dir = os.path.join(base_dir, 'train')\n",
        "validation_dir = os.path.join(base_dir, 'validation')\n",
        "\n",
        "# Directory with our training cat pictures\n",
        "train_cats_dir = os.path.join(train_dir, 'cats')\n",
        "\n",
        "# Directory with our training dog pictures\n",
        "train_dogs_dir = os.path.join(train_dir, 'dogs')\n",
        "\n",
        "# Directory with our validation cat pictures\n",
        "validation_cats_dir = os.path.join(validation_dir, 'cats')\n",
        "\n",
        "# Directory with our validation dog pictures\n",
        "validation_dogs_dir = os.path.join(validation_dir, 'dogs')"
      ],
      "execution_count": null,
      "outputs": []
    },
    {
      "cell_type": "markdown",
      "metadata": {
        "id": "76jrJBpv-eva"
      },
      "source": [
        "## Data Augmentation"
      ]
    },
    {
      "cell_type": "markdown",
      "metadata": {
        "id": "vYaGxjtn-eva"
      },
      "source": [
        "Data augmentation is a strategy that enables you to significantly increase the diversity of data available for training models, without actually collecting new data and to also reduce overfitting. Fortiunately its made super easy with `ImageDataGenerator`."
      ]
    },
    {
      "cell_type": "code",
      "metadata": {
        "id": "46N9LbDX-eva"
      },
      "source": [
        "train_datagen = ImageDataGenerator(\n",
        "      rescale=1./255,\n",
        "      rotation_range=40,\n",
        "      width_shift_range=0.2,\n",
        "      height_shift_range=0.2,\n",
        "      shear_range=0.2,\n",
        "      zoom_range=0.2,\n",
        "      horizontal_flip=True,\n",
        "      fill_mode='nearest')\n",
        "\n",
        "test_datagen = ImageDataGenerator(rescale=1./255)"
      ],
      "execution_count": null,
      "outputs": []
    },
    {
      "cell_type": "markdown",
      "metadata": {
        "id": "186GEfBf-eva"
      },
      "source": [
        "## Loading Images"
      ]
    },
    {
      "cell_type": "markdown",
      "metadata": {
        "id": "X81jUC38-eva"
      },
      "source": [
        "Let's finally load the images and apply the data augmentation techniques we discussed above."
      ]
    },
    {
      "cell_type": "code",
      "metadata": {
        "id": "lCodariw-eva",
        "outputId": "68737879-6b12-48f4-b26e-21a8fcb7289e"
      },
      "source": [
        "# Flow training images in batches of 20 using train_datagen generator\n",
        "train_generator = train_datagen.flow_from_directory(\n",
        "        train_dir,  # This is the source directory for training images\n",
        "        target_size=(150, 150),  # All images will be resized to 150x150\n",
        "        batch_size=20,\n",
        "        # Since we use binary_crossentropy loss, we need binary labels\n",
        "        class_mode='binary')\n",
        "\n",
        "# Flow validation images in batches of 20 using test_datagen generator\n",
        "validation_generator = test_datagen.flow_from_directory(\n",
        "        validation_dir,\n",
        "        target_size=(150, 150),\n",
        "        batch_size=20,\n",
        "        class_mode='binary')"
      ],
      "execution_count": null,
      "outputs": [
        {
          "output_type": "stream",
          "text": [
            "Found 2000 images belonging to 2 classes.\n",
            "Found 1000 images belonging to 2 classes.\n"
          ],
          "name": "stdout"
        }
      ]
    },
    {
      "cell_type": "markdown",
      "metadata": {
        "id": "li77MUNY-evb"
      },
      "source": [
        "## Model!!"
      ]
    },
    {
      "cell_type": "markdown",
      "metadata": {
        "id": "0NFp_Ppk-evb"
      },
      "source": [
        "Let's now finally build the model and train it."
      ]
    },
    {
      "cell_type": "code",
      "metadata": {
        "id": "54NyYcx0-evc"
      },
      "source": [
        "model = tf.keras.models.Sequential([\n",
        "    tf.keras.layers.Conv2D(32, (3,3), padding='same', activation='relu',input_shape=(IMG_HEIGHT, IMG_WIDTH ,3)),\n",
        "    tf.keras.layers.MaxPooling2D(2,2),\n",
        "    tf.keras.layers.Dropout(0.2),\n",
        "    tf.keras.layers.Conv2D(64, (3,3), padding='same', activation='relu'),\n",
        "    tf.keras.layers.MaxPooling2D(2,2),\n",
        "    tf.keras.layers.Conv2D(128, (3,3), padding='same', activation='relu'),\n",
        "    tf.keras.layers.MaxPooling2D(2,2),\n",
        "    tf.keras.layers.Conv2D(128, (3,3), padding='same', activation='relu'),\n",
        "    tf.keras.layers.MaxPooling2D(2,2),\n",
        "    tf.keras.layers.Dropout(0.2),\n",
        "    tf.keras.layers.Flatten(),\n",
        "    tf.keras.layers.Dense(512, activation='relu'),\n",
        "    tf.keras.layers.Dense(1, activation='sigmoid')\n",
        "])\n",
        "\n",
        "model.compile(loss='binary_crossentropy',\n",
        "              optimizer=RMSprop(lr=1e-4),\n",
        "              metrics=['acc'])"
      ],
      "execution_count": null,
      "outputs": []
    },
    {
      "cell_type": "code",
      "metadata": {
        "id": "J6scbM6K-evc",
        "outputId": "15db7479-5a89-41f4-e0d3-c819186b9e17"
      },
      "source": [
        "history = model.fit_generator(\n",
        "      train_generator,\n",
        "      steps_per_epoch=100,  # 2000 images = batch_size * steps\n",
        "      epochs=100,\n",
        "      validation_data=validation_generator,\n",
        "      validation_steps=50,  # 1000 images = batch_size * steps\n",
        "      verbose=1)"
      ],
      "execution_count": null,
      "outputs": [
        {
          "output_type": "stream",
          "text": [
            "WARNING:tensorflow:sample_weight modes were coerced from\n",
            "  ...\n",
            "    to  \n",
            "  ['...']\n",
            "WARNING:tensorflow:sample_weight modes were coerced from\n",
            "  ...\n",
            "    to  \n",
            "  ['...']\n",
            "Train for 100 steps, validate for 50 steps\n",
            "Epoch 1/100\n",
            "100/100 [==============================] - 17s 169ms/step - loss: 0.6922 - acc: 0.5330 - val_loss: 0.6870 - val_acc: 0.6070\n",
            "Epoch 2/100\n",
            "100/100 [==============================] - 17s 169ms/step - loss: 0.6811 - acc: 0.5625 - val_loss: 0.6672 - val_acc: 0.5950\n",
            "Epoch 3/100\n",
            "100/100 [==============================] - 17s 169ms/step - loss: 0.6671 - acc: 0.5950 - val_loss: 0.6649 - val_acc: 0.5990\n",
            "Epoch 4/100\n",
            "100/100 [==============================] - 17s 168ms/step - loss: 0.6522 - acc: 0.6300 - val_loss: 0.6489 - val_acc: 0.6500\n",
            "Epoch 5/100\n",
            "100/100 [==============================] - 17s 167ms/step - loss: 0.6364 - acc: 0.6435 - val_loss: 0.6310 - val_acc: 0.6300\n",
            "Epoch 6/100\n",
            "100/100 [==============================] - 17s 167ms/step - loss: 0.6272 - acc: 0.6510 - val_loss: 0.5998 - val_acc: 0.6740\n",
            "Epoch 7/100\n",
            "100/100 [==============================] - 17s 167ms/step - loss: 0.6082 - acc: 0.6685 - val_loss: 0.6053 - val_acc: 0.6580\n",
            "Epoch 8/100\n",
            "100/100 [==============================] - 17s 169ms/step - loss: 0.6046 - acc: 0.6745 - val_loss: 0.5781 - val_acc: 0.6960\n",
            "Epoch 9/100\n",
            "100/100 [==============================] - 17s 167ms/step - loss: 0.5907 - acc: 0.6790 - val_loss: 0.5666 - val_acc: 0.6970\n",
            "Epoch 10/100\n",
            "100/100 [==============================] - 17s 166ms/step - loss: 0.5891 - acc: 0.6820 - val_loss: 0.5761 - val_acc: 0.6650\n",
            "Epoch 11/100\n",
            "100/100 [==============================] - 17s 167ms/step - loss: 0.5819 - acc: 0.6860 - val_loss: 0.5626 - val_acc: 0.6980\n",
            "Epoch 12/100\n",
            "100/100 [==============================] - 17s 166ms/step - loss: 0.5650 - acc: 0.7005 - val_loss: 0.5648 - val_acc: 0.6780\n",
            "Epoch 13/100\n",
            "100/100 [==============================] - 17s 167ms/step - loss: 0.5692 - acc: 0.7155 - val_loss: 0.5493 - val_acc: 0.7050\n",
            "Epoch 14/100\n",
            "100/100 [==============================] - 17s 166ms/step - loss: 0.5721 - acc: 0.6930 - val_loss: 0.5469 - val_acc: 0.7140\n",
            "Epoch 15/100\n",
            "100/100 [==============================] - 17s 166ms/step - loss: 0.5739 - acc: 0.6985 - val_loss: 0.5907 - val_acc: 0.6730\n",
            "Epoch 16/100\n",
            "100/100 [==============================] - 17s 166ms/step - loss: 0.5557 - acc: 0.7110 - val_loss: 0.5467 - val_acc: 0.7120\n",
            "Epoch 17/100\n",
            "100/100 [==============================] - 17s 166ms/step - loss: 0.5448 - acc: 0.7185 - val_loss: 0.5487 - val_acc: 0.7070\n",
            "Epoch 18/100\n",
            "100/100 [==============================] - 17s 167ms/step - loss: 0.5502 - acc: 0.7155 - val_loss: 0.5436 - val_acc: 0.7150\n",
            "Epoch 19/100\n",
            "100/100 [==============================] - 17s 167ms/step - loss: 0.5363 - acc: 0.7255 - val_loss: 0.5447 - val_acc: 0.7140\n",
            "Epoch 20/100\n",
            "100/100 [==============================] - 17s 166ms/step - loss: 0.5383 - acc: 0.7185 - val_loss: 0.5805 - val_acc: 0.6810\n",
            "Epoch 21/100\n",
            "100/100 [==============================] - 17s 166ms/step - loss: 0.5419 - acc: 0.7155 - val_loss: 0.5902 - val_acc: 0.6850\n",
            "Epoch 22/100\n",
            "100/100 [==============================] - 17s 166ms/step - loss: 0.5284 - acc: 0.7340 - val_loss: 0.5549 - val_acc: 0.7080\n",
            "Epoch 23/100\n",
            "100/100 [==============================] - 17s 166ms/step - loss: 0.5192 - acc: 0.7390 - val_loss: 0.5270 - val_acc: 0.7380\n",
            "Epoch 24/100\n",
            "100/100 [==============================] - 17s 168ms/step - loss: 0.5302 - acc: 0.7315 - val_loss: 0.5249 - val_acc: 0.7360\n",
            "Epoch 25/100\n",
            "100/100 [==============================] - 17s 166ms/step - loss: 0.5148 - acc: 0.7470 - val_loss: 0.5438 - val_acc: 0.7190\n",
            "Epoch 26/100\n",
            "100/100 [==============================] - 17s 167ms/step - loss: 0.5129 - acc: 0.7410 - val_loss: 0.5650 - val_acc: 0.7270\n",
            "Epoch 27/100\n",
            "100/100 [==============================] - 17s 168ms/step - loss: 0.5132 - acc: 0.7415 - val_loss: 0.5244 - val_acc: 0.7360\n",
            "Epoch 28/100\n",
            "100/100 [==============================] - 17s 168ms/step - loss: 0.5031 - acc: 0.7595 - val_loss: 0.6369 - val_acc: 0.6970\n",
            "Epoch 29/100\n",
            "100/100 [==============================] - 17s 165ms/step - loss: 0.5044 - acc: 0.7565 - val_loss: 0.5326 - val_acc: 0.7300\n",
            "Epoch 30/100\n",
            "100/100 [==============================] - 17s 169ms/step - loss: 0.5067 - acc: 0.7495 - val_loss: 0.5135 - val_acc: 0.7490\n",
            "Epoch 31/100\n",
            "100/100 [==============================] - 17s 170ms/step - loss: 0.5022 - acc: 0.7625 - val_loss: 0.5215 - val_acc: 0.7430\n",
            "Epoch 32/100\n",
            "100/100 [==============================] - 17s 169ms/step - loss: 0.5032 - acc: 0.7370 - val_loss: 0.5348 - val_acc: 0.7400\n",
            "Epoch 33/100\n",
            "100/100 [==============================] - 17s 167ms/step - loss: 0.5053 - acc: 0.7520 - val_loss: 0.5011 - val_acc: 0.7580\n",
            "Epoch 34/100\n",
            "100/100 [==============================] - 17s 165ms/step - loss: 0.4864 - acc: 0.7630 - val_loss: 0.5367 - val_acc: 0.7440\n",
            "Epoch 35/100\n",
            "100/100 [==============================] - 17s 167ms/step - loss: 0.4932 - acc: 0.7585 - val_loss: 0.4805 - val_acc: 0.7680\n",
            "Epoch 36/100\n",
            "100/100 [==============================] - 17s 166ms/step - loss: 0.4929 - acc: 0.7510 - val_loss: 0.4902 - val_acc: 0.7550\n",
            "Epoch 37/100\n",
            "100/100 [==============================] - 17s 167ms/step - loss: 0.4918 - acc: 0.7695 - val_loss: 0.4856 - val_acc: 0.7720\n",
            "Epoch 38/100\n",
            "100/100 [==============================] - 17s 168ms/step - loss: 0.4857 - acc: 0.7685 - val_loss: 0.4800 - val_acc: 0.7770\n",
            "Epoch 39/100\n",
            "100/100 [==============================] - 17s 168ms/step - loss: 0.4916 - acc: 0.7720 - val_loss: 0.5538 - val_acc: 0.7170\n",
            "Epoch 40/100\n",
            "100/100 [==============================] - 17s 167ms/step - loss: 0.4823 - acc: 0.7690 - val_loss: 0.4891 - val_acc: 0.7700\n",
            "Epoch 41/100\n",
            "100/100 [==============================] - 17s 167ms/step - loss: 0.4875 - acc: 0.7750 - val_loss: 0.4891 - val_acc: 0.7690\n",
            "Epoch 42/100\n",
            "100/100 [==============================] - 17s 170ms/step - loss: 0.4815 - acc: 0.7755 - val_loss: 0.5527 - val_acc: 0.7420\n",
            "Epoch 43/100\n",
            "100/100 [==============================] - 17s 168ms/step - loss: 0.4748 - acc: 0.7720 - val_loss: 0.5566 - val_acc: 0.7230\n",
            "Epoch 44/100\n",
            "100/100 [==============================] - 17s 168ms/step - loss: 0.4768 - acc: 0.7735 - val_loss: 0.5248 - val_acc: 0.7530\n",
            "Epoch 45/100\n",
            "100/100 [==============================] - 17s 171ms/step - loss: 0.4678 - acc: 0.7805 - val_loss: 0.4732 - val_acc: 0.7810\n",
            "Epoch 46/100\n",
            "100/100 [==============================] - 17s 169ms/step - loss: 0.4662 - acc: 0.7785 - val_loss: 0.5540 - val_acc: 0.7420\n",
            "Epoch 47/100\n",
            "100/100 [==============================] - 17s 168ms/step - loss: 0.4623 - acc: 0.7715 - val_loss: 0.5078 - val_acc: 0.7540\n",
            "Epoch 48/100\n",
            "100/100 [==============================] - 17s 169ms/step - loss: 0.4627 - acc: 0.7820 - val_loss: 0.5960 - val_acc: 0.7390\n",
            "Epoch 49/100\n",
            "100/100 [==============================] - 17s 169ms/step - loss: 0.4648 - acc: 0.7790 - val_loss: 0.5050 - val_acc: 0.7780\n",
            "Epoch 50/100\n",
            "100/100 [==============================] - 17s 167ms/step - loss: 0.4584 - acc: 0.7870 - val_loss: 0.4757 - val_acc: 0.7840\n",
            "Epoch 51/100\n",
            "100/100 [==============================] - 17s 167ms/step - loss: 0.4590 - acc: 0.7730 - val_loss: 0.5155 - val_acc: 0.7630\n",
            "Epoch 52/100\n",
            "100/100 [==============================] - 17s 166ms/step - loss: 0.4424 - acc: 0.7900 - val_loss: 0.4891 - val_acc: 0.7670\n",
            "Epoch 53/100\n",
            "100/100 [==============================] - 17s 167ms/step - loss: 0.4583 - acc: 0.7770 - val_loss: 0.5432 - val_acc: 0.7580\n",
            "Epoch 54/100\n",
            "100/100 [==============================] - 17s 167ms/step - loss: 0.4422 - acc: 0.7850 - val_loss: 0.5406 - val_acc: 0.7470\n",
            "Epoch 55/100\n",
            "100/100 [==============================] - 17s 165ms/step - loss: 0.4583 - acc: 0.7750 - val_loss: 0.4834 - val_acc: 0.7910\n",
            "Epoch 56/100\n",
            "100/100 [==============================] - 17s 167ms/step - loss: 0.4478 - acc: 0.7850 - val_loss: 0.5153 - val_acc: 0.7600\n",
            "Epoch 57/100\n",
            "100/100 [==============================] - 17s 167ms/step - loss: 0.4444 - acc: 0.7920 - val_loss: 0.4879 - val_acc: 0.7870\n",
            "Epoch 58/100\n",
            "100/100 [==============================] - 17s 167ms/step - loss: 0.4389 - acc: 0.7990 - val_loss: 0.4769 - val_acc: 0.7890\n",
            "Epoch 59/100\n",
            "100/100 [==============================] - 17s 166ms/step - loss: 0.4438 - acc: 0.7895 - val_loss: 0.4684 - val_acc: 0.8010\n",
            "Epoch 60/100\n",
            "100/100 [==============================] - 17s 168ms/step - loss: 0.4398 - acc: 0.7890 - val_loss: 0.4740 - val_acc: 0.7900\n",
            "Epoch 61/100\n",
            "100/100 [==============================] - 17s 166ms/step - loss: 0.4299 - acc: 0.8005 - val_loss: 0.4608 - val_acc: 0.7890\n",
            "Epoch 62/100\n",
            "100/100 [==============================] - 17s 166ms/step - loss: 0.4378 - acc: 0.8025 - val_loss: 0.4701 - val_acc: 0.7730\n",
            "Epoch 63/100\n",
            "100/100 [==============================] - 17s 165ms/step - loss: 0.4150 - acc: 0.8070 - val_loss: 0.5015 - val_acc: 0.7700\n",
            "Epoch 64/100\n",
            "100/100 [==============================] - 17s 168ms/step - loss: 0.4415 - acc: 0.7870 - val_loss: 0.5062 - val_acc: 0.7770\n",
            "Epoch 65/100\n",
            "100/100 [==============================] - 16s 164ms/step - loss: 0.4319 - acc: 0.8000 - val_loss: 0.5183 - val_acc: 0.7780\n",
            "Epoch 66/100\n",
            "100/100 [==============================] - 17s 169ms/step - loss: 0.4102 - acc: 0.8115 - val_loss: 0.5898 - val_acc: 0.7510\n",
            "Epoch 67/100\n",
            "100/100 [==============================] - 17s 169ms/step - loss: 0.4376 - acc: 0.7965 - val_loss: 0.5493 - val_acc: 0.7720\n",
            "Epoch 68/100\n",
            "100/100 [==============================] - 17s 169ms/step - loss: 0.4311 - acc: 0.8020 - val_loss: 0.4593 - val_acc: 0.8030\n",
            "Epoch 69/100\n",
            "100/100 [==============================] - 16s 165ms/step - loss: 0.4140 - acc: 0.8025 - val_loss: 0.5397 - val_acc: 0.7670\n",
            "Epoch 70/100\n",
            "100/100 [==============================] - 17s 166ms/step - loss: 0.4221 - acc: 0.8050 - val_loss: 0.4978 - val_acc: 0.7900\n",
            "Epoch 71/100\n",
            "100/100 [==============================] - 17s 167ms/step - loss: 0.4244 - acc: 0.8105 - val_loss: 0.5157 - val_acc: 0.7710\n",
            "Epoch 72/100\n",
            "100/100 [==============================] - 17s 166ms/step - loss: 0.4153 - acc: 0.8220 - val_loss: 0.4798 - val_acc: 0.7790\n",
            "Epoch 73/100\n",
            "100/100 [==============================] - 17s 165ms/step - loss: 0.3952 - acc: 0.8255 - val_loss: 0.5670 - val_acc: 0.7770\n",
            "Epoch 74/100\n",
            "100/100 [==============================] - 17s 166ms/step - loss: 0.4089 - acc: 0.8040 - val_loss: 0.4559 - val_acc: 0.7810\n",
            "Epoch 75/100\n",
            "100/100 [==============================] - 17s 166ms/step - loss: 0.4037 - acc: 0.8220 - val_loss: 0.4665 - val_acc: 0.7930\n",
            "Epoch 76/100\n",
            "100/100 [==============================] - 16s 165ms/step - loss: 0.4076 - acc: 0.8185 - val_loss: 0.5287 - val_acc: 0.7690\n",
            "Epoch 77/100\n",
            "100/100 [==============================] - 17s 165ms/step - loss: 0.4113 - acc: 0.8145 - val_loss: 0.5546 - val_acc: 0.7760\n",
            "Epoch 78/100\n",
            "100/100 [==============================] - 17s 166ms/step - loss: 0.4167 - acc: 0.8175 - val_loss: 0.4964 - val_acc: 0.7810\n",
            "Epoch 79/100\n",
            "100/100 [==============================] - 17s 166ms/step - loss: 0.3927 - acc: 0.8330 - val_loss: 0.4620 - val_acc: 0.8000\n",
            "Epoch 80/100\n",
            "100/100 [==============================] - 17s 165ms/step - loss: 0.4011 - acc: 0.8215 - val_loss: 0.5491 - val_acc: 0.7830\n",
            "Epoch 81/100\n",
            "100/100 [==============================] - 17s 166ms/step - loss: 0.4108 - acc: 0.8080 - val_loss: 0.4998 - val_acc: 0.7790\n",
            "Epoch 82/100\n",
            "100/100 [==============================] - 17s 167ms/step - loss: 0.4028 - acc: 0.8125 - val_loss: 0.4942 - val_acc: 0.7900\n",
            "Epoch 83/100\n",
            "100/100 [==============================] - 17s 167ms/step - loss: 0.3933 - acc: 0.8160 - val_loss: 0.5249 - val_acc: 0.7900\n",
            "Epoch 84/100\n",
            "100/100 [==============================] - 16s 164ms/step - loss: 0.3925 - acc: 0.8255 - val_loss: 0.4946 - val_acc: 0.7920\n",
            "Epoch 85/100\n",
            "100/100 [==============================] - 17s 167ms/step - loss: 0.4130 - acc: 0.8055 - val_loss: 0.5547 - val_acc: 0.7810\n",
            "Epoch 86/100\n",
            "100/100 [==============================] - 17s 167ms/step - loss: 0.3980 - acc: 0.8195 - val_loss: 0.5581 - val_acc: 0.7870\n",
            "Epoch 87/100\n",
            "100/100 [==============================] - 17s 166ms/step - loss: 0.3999 - acc: 0.8145 - val_loss: 0.4839 - val_acc: 0.7860\n",
            "Epoch 88/100\n",
            "100/100 [==============================] - 17s 166ms/step - loss: 0.3872 - acc: 0.8225 - val_loss: 0.5163 - val_acc: 0.7780\n",
            "Epoch 89/100\n",
            "100/100 [==============================] - 17s 167ms/step - loss: 0.3894 - acc: 0.8230 - val_loss: 0.6064 - val_acc: 0.7610\n",
            "Epoch 90/100\n",
            "100/100 [==============================] - 17s 167ms/step - loss: 0.3764 - acc: 0.8350 - val_loss: 0.5396 - val_acc: 0.7770\n",
            "Epoch 91/100\n",
            "100/100 [==============================] - 17s 169ms/step - loss: 0.3969 - acc: 0.8225 - val_loss: 0.4736 - val_acc: 0.7930\n",
            "Epoch 92/100\n",
            "100/100 [==============================] - 17s 171ms/step - loss: 0.3894 - acc: 0.8205 - val_loss: 0.5376 - val_acc: 0.8100\n",
            "Epoch 93/100\n",
            "100/100 [==============================] - 17s 174ms/step - loss: 0.3753 - acc: 0.8330 - val_loss: 0.4784 - val_acc: 0.7920\n",
            "Epoch 94/100\n",
            "100/100 [==============================] - 17s 175ms/step - loss: 0.3844 - acc: 0.8275 - val_loss: 0.4880 - val_acc: 0.7950\n",
            "Epoch 95/100\n",
            "100/100 [==============================] - 18s 175ms/step - loss: 0.3687 - acc: 0.8400 - val_loss: 0.4835 - val_acc: 0.7970\n",
            "Epoch 96/100\n",
            "100/100 [==============================] - 18s 177ms/step - loss: 0.3689 - acc: 0.8290 - val_loss: 0.5489 - val_acc: 0.7760\n",
            "Epoch 97/100\n",
            "100/100 [==============================] - 18s 176ms/step - loss: 0.3764 - acc: 0.8410 - val_loss: 0.5055 - val_acc: 0.7860\n",
            "Epoch 98/100\n",
            "100/100 [==============================] - 17s 174ms/step - loss: 0.3790 - acc: 0.8380 - val_loss: 0.4674 - val_acc: 0.7990\n",
            "Epoch 99/100\n",
            "100/100 [==============================] - 17s 172ms/step - loss: 0.3780 - acc: 0.8345 - val_loss: 0.4621 - val_acc: 0.7890\n",
            "Epoch 100/100\n",
            "100/100 [==============================] - 17s 172ms/step - loss: 0.3654 - acc: 0.8335 - val_loss: 0.5339 - val_acc: 0.7890\n"
          ],
          "name": "stdout"
        }
      ]
    },
    {
      "cell_type": "markdown",
      "metadata": {
        "id": "ciUMIXoc-evc"
      },
      "source": [
        "## Evaluating the model"
      ]
    },
    {
      "cell_type": "code",
      "metadata": {
        "id": "PYspMa-a-evc",
        "outputId": "0d5725a9-51ba-4854-f51f-3e2f8423bb69"
      },
      "source": [
        "acc = history.history['acc']\n",
        "val_acc = history.history['val_acc']\n",
        "loss = history.history['loss']\n",
        "val_loss = history.history['val_loss']\n",
        "\n",
        "epochs = range(len(acc))\n",
        "\n",
        "plt.plot(epochs, acc, 'bo', label='Training accuracy')\n",
        "plt.plot(epochs, val_acc, 'b', label='Validation accuracy')\n",
        "plt.title('Training and validation accuracy')\n",
        "\n",
        "plt.figure()\n",
        "\n",
        "plt.plot(epochs, loss, 'bo', label='Training Loss')\n",
        "plt.plot(epochs, val_loss, 'b', label='Validation Loss')\n",
        "plt.title('Training and validation loss')\n",
        "plt.legend()\n",
        "\n",
        "plt.show()"
      ],
      "execution_count": null,
      "outputs": [
        {
          "output_type": "display_data",
          "data": {
            "image/png": "[encoded data removed]",
            "text/plain": [
              "<Figure size 432x288 with 1 Axes>"
            ]
          },
          "metadata": {
            "tags": [],
            "needs_background": "light"
          }
        },
        {
          "output_type": "display_data",
          "data": {
            "image/png": "[encoded data removed]",
            "text/plain": [
              "<Figure size 432x288 with 1 Axes>"
            ]
          },
          "metadata": {
            "tags": [],
            "needs_background": "light"
          }
        }
      ]
    },
    {
      "cell_type": "markdown",
      "metadata": {
        "id": "MI4AkE89-evd"
      },
      "source": [
        "## Inferences"
      ]
    },
    {
      "cell_type": "markdown",
      "metadata": {
        "id": "i_l95mhh-evd"
      },
      "source": [
        "### Colab Only"
      ]
    },
    {
      "cell_type": "code",
      "metadata": {
        "id": "cPA0TL7O-evd"
      },
      "source": [
        "from google.colab import files\n",
        " \n",
        "uploaded = files.upload()\n",
        " \n",
        "for fn in uploaded.keys():\n",
        "  path = '/content/' + fn\n",
        "  img = image.load_img(path, target_size=(150, 150))\n",
        "  x = image.img_to_array(img)\n",
        "  x = np.expand_dims(x, axis=0)\n",
        " \n",
        "  images = np.vstack([x])\n",
        "  classes = model.predict(images, batch_size=10)\n",
        "  print(classes[0])\n",
        "  if classes[0]>0.5:\n",
        "    print(fn + \" is a cat\")\n",
        "  else:\n",
        "    print(fn + \" is a dog\")"
      ],
      "execution_count": null,
      "outputs": []
    },
    {
      "cell_type": "markdown",
      "metadata": {
        "id": "IBn-HwZK-evd"
      },
      "source": [
        "### Local Only"
      ]
    },
    {
      "cell_type": "code",
      "metadata": {
        "id": "1W4PMwJz-evd"
      },
      "source": [
        "img = image.load_img(\"images/testing_images/dog/dog-2.jpg\", target_size=(150, 150))\n",
        "x = image.img_to_array(img)\n",
        "x = np.expand_dims(x, axis=0)\n",
        "\n",
        "images = np.vstack([x])\n",
        "classes = model.predict(images, batch_size=10)\n",
        "print(classes[0])\n",
        "if classes[0]<0.5:\n",
        "    print(\"cat\")\n",
        "else:\n",
        "    print(\"dog\")"
      ],
      "execution_count": null,
      "outputs": []
    }
  ]
}